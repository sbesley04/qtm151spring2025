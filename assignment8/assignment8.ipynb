{
 "cells": [
  {
   "attachments": {},
   "cell_type": "markdown",
   "metadata": {},
   "source": [
    "# <span style=\"color:darkblue\"> QTM 151 - Assignment 8 </span>"
   ]
  },
  {
   "attachments": {},
   "cell_type": "markdown",
   "metadata": {},
   "source": [
    "## Try to submit as an HTML file"
   ]
  },
  {
   "attachments": {},
   "cell_type": "markdown",
   "metadata": {},
   "source": [
    "\n",
    "\n",
    "### Print your name below"
   ]
  },
  {
   "cell_type": "code",
   "execution_count": null,
   "metadata": {},
   "outputs": [],
   "source": [
    "# Write your answer here\n",
    "print(\"Samuel Besley\")\n"
   ]
  },
  {
   "attachments": {},
   "cell_type": "markdown",
   "metadata": {},
   "source": [
    "### Import the \"pandas\" library"
   ]
  },
  {
   "cell_type": "code",
   "execution_count": 4,
   "metadata": {},
   "outputs": [],
   "source": [
    "# Write your answer here\n",
    "import pandas as pd\n"
   ]
  },
  {
   "attachments": {},
   "cell_type": "markdown",
   "metadata": {},
   "source": [
    "### You will need the material from Lecture 14 and 15 for this assignment."
   ]
  },
  {
   "cell_type": "markdown",
   "metadata": {},
   "source": [
    "\n",
    "\n",
    "### Import the dataset \"imdb_top_1000.csv\" and save it as \"movies.\" <br> \n",
    "This includes data on the top 1000 movies by IMDB rating."
   ]
  },
  {
   "cell_type": "code",
   "execution_count": 5,
   "metadata": {},
   "outputs": [],
   "source": [
    "movies = pd.read_csv(\"/Users/samuelbesley/Documents/GitHub/qtm151spring2025/assignment8/data_raw/imdb_top_1000.csv\") \n"
   ]
  },
  {
   "attachments": {},
   "cell_type": "markdown",
   "metadata": {},
   "source": [
    "### (a) Groupby + Aggregate Statistics\n",
    "\n",
    "Create a new dataset **\"movies_agg\"** by grouping the \"movies\" dataset by **\"Genre\"** and then computing <br>the following aggregate statistics for **\"IMDB_Rating\"**:\n",
    "\n",
    "- **Mean**\n",
    "- **Standard Deviation**\n",
    "- **Minimum**\n",
    "- **Maximum**\n",
    "\n",
    "Add a chain to sort by the mean IMDB rating in descending order.\n",
    "\n",
    "Display the resulting dataset **\"movies_agg\"**.\n",
    "\n"
   ]
  },
  {
   "cell_type": "code",
   "execution_count": 6,
   "metadata": {},
   "outputs": [
    {
     "name": "stdout",
     "output_type": "stream",
     "text": [
      "                            mean       std  min  max\n",
      "Genre                                               \n",
      "Animation, Drama, War       8.50       NaN  8.5  8.5\n",
      "Drama, Musical              8.40       NaN  8.4  8.4\n",
      "Action, Sci-Fi              8.40  0.360555  8.0  8.7\n",
      "Drama, Mystery, War         8.35  0.070711  8.3  8.4\n",
      "Western                     8.35  0.420317  7.8  8.8\n",
      "...                          ...       ...  ...  ...\n",
      "Adventure, Comedy, War      7.60       NaN  7.6  7.6\n",
      "Animation, Comedy, Crime    7.60       NaN  7.6  7.6\n",
      "Action, Adventure, Family   7.60       NaN  7.6  7.6\n",
      "Animation, Drama, Romance   7.60       NaN  7.6  7.6\n",
      "Action, Adventure, Mystery  7.60       NaN  7.6  7.6\n",
      "\n",
      "[202 rows x 4 columns]\n"
     ]
    }
   ],
   "source": [
    "# Write your own code\n",
    "movies_agg = (\n",
    "    movies.groupby(\"Genre\")[\"IMDB_Rating\"]\n",
    "    .agg([\"mean\", \"std\", \"min\", \"max\"])\n",
    "    .sort_values(by=\"mean\", ascending=False)\n",
    ")\n",
    "print(movies_agg)\n"
   ]
  },
  {
   "attachments": {},
   "cell_type": "markdown",
   "metadata": {},
   "source": [
    "### (b) Merge Data\n",
    "\n",
    "Create a new dataset **\"movies_merge\"** by merging the aggregate information <br> \n",
    "from (a) into \"movies\".\n",
    "\n",
    "Display the resulting dataset **\"movies_merge\"**.\n"
   ]
  },
  {
   "cell_type": "code",
   "execution_count": 7,
   "metadata": {},
   "outputs": [
    {
     "name": "stdout",
     "output_type": "stream",
     "text": [
      "                         Name Released_Year   Length  \\\n",
      "0    The Shawshank Redemption          1994  142 min   \n",
      "1               The Godfather          1972  175 min   \n",
      "2             The Dark Knight          2008  152 min   \n",
      "3      The Godfather: Part II          1974  202 min   \n",
      "4                12 Angry Men          1957   96 min   \n",
      "..                        ...           ...      ...   \n",
      "995    Breakfast at Tiffany's          1961  115 min   \n",
      "996                     Giant          1956  201 min   \n",
      "997     From Here to Eternity          1953  118 min   \n",
      "998                  Lifeboat          1944   97 min   \n",
      "999              The 39 Steps          1935   86 min   \n",
      "\n",
      "                        Genre  IMDB_Rating  \\\n",
      "0                       Drama          9.3   \n",
      "1                Crime, Drama          9.2   \n",
      "2        Action, Crime, Drama          9.0   \n",
      "3                Crime, Drama          9.0   \n",
      "4                Crime, Drama          9.0   \n",
      "..                        ...          ...   \n",
      "995    Comedy, Drama, Romance          7.6   \n",
      "996            Drama, Western          7.6   \n",
      "997       Drama, Romance, War          7.6   \n",
      "998                Drama, War          7.6   \n",
      "999  Crime, Mystery, Thriller          7.6   \n",
      "\n",
      "                                              Overview              Director  \\\n",
      "0    Two imprisoned men bond over a number of years...        Frank Darabont   \n",
      "1    An organized crime dynasty's aging patriarch t...  Francis Ford Coppola   \n",
      "2    When the menace known as the Joker wreaks havo...     Christopher Nolan   \n",
      "3    The early life and career of Vito Corleone in ...  Francis Ford Coppola   \n",
      "4    A jury holdout attempts to prevent a miscarria...          Sidney Lumet   \n",
      "..                                                 ...                   ...   \n",
      "995  A young New York socialite becomes interested ...         Blake Edwards   \n",
      "996  Sprawling epic covering the life of a Texas ca...        George Stevens   \n",
      "997  In Hawaii in 1941, a private is cruelly punish...        Fred Zinnemann   \n",
      "998  Several survivors of a torpedoed merchant ship...      Alfred Hitchcock   \n",
      "999  A man in London tries to help a counter-espion...      Alfred Hitchcock   \n",
      "\n",
      "                 Star1              Star2        Gross      mean       std  \\\n",
      "0          Tim Robbins     Morgan Freeman   28,341,469  7.975294  0.305468   \n",
      "1        Marlon Brando          Al Pacino  134,966,411  8.157692  0.448262   \n",
      "2       Christian Bale       Heath Ledger  534,858,444  7.880000  0.316664   \n",
      "3            Al Pacino     Robert De Niro   57,300,000  8.157692  0.448262   \n",
      "4          Henry Fonda        Lee J. Cobb    4,360,000  8.157692  0.448262   \n",
      "..                 ...                ...          ...       ...       ...   \n",
      "995     Audrey Hepburn     George Peppard          NaN  7.877419  0.257824   \n",
      "996   Elizabeth Taylor        Rock Hudson          NaN  7.980000  0.363318   \n",
      "997     Burt Lancaster   Montgomery Clift   30,500,000  8.025000  0.368556   \n",
      "998  Tallulah Bankhead        John Hodiak          NaN  8.073333  0.276371   \n",
      "999       Robert Donat  Madeleine Carroll          NaN  8.133333  0.472582   \n",
      "\n",
      "     min  max  \n",
      "0    7.6  9.3  \n",
      "1    7.6  9.2  \n",
      "2    7.6  9.0  \n",
      "3    7.6  9.2  \n",
      "4    7.6  9.2  \n",
      "..   ...  ...  \n",
      "995  7.6  8.6  \n",
      "996  7.6  8.4  \n",
      "997  7.6  8.5  \n",
      "998  7.6  8.6  \n",
      "999  7.6  8.5  \n",
      "\n",
      "[1000 rows x 14 columns]\n"
     ]
    }
   ],
   "source": [
    "# Write your own code\n",
    "movies_merge = movies.merge(movies_agg, left_on=\"Genre\", right_index=True, how=\"left\")\n",
    "print(movies_merge)\n"
   ]
  },
  {
   "attachments": {},
   "cell_type": "markdown",
   "metadata": {},
   "source": [
    "### (c) Rename Columns + Dictionaries\n",
    "\n",
    "Create a new dataset **\"movies_rename\"** by renaming the following columns in <br>the \"movies\" dataset using a dictionary:\n",
    "\n",
    "- \"Name\" --> **\"Movie_Title\"**\n",
    "- \"Length\" --> **\"Runtime\"**\n",
    "- \"Gross\" --> **\"Revenue\"**\n",
    "\n",
    "Verify that this renaming worked by printing the lists of the old (\"movies\") and new <br>(\"movies_rename\") column names."
   ]
  },
  {
   "cell_type": "code",
   "execution_count": 8,
   "metadata": {},
   "outputs": [
    {
     "name": "stdout",
     "output_type": "stream",
     "text": [
      "Old columns: ['Name', 'Released_Year', 'Length', 'Genre', 'IMDB_Rating', 'Overview', 'Director', 'Star1', 'Star2', 'Gross']\n",
      "New columns: ['Movie_Title', 'Released_Year', 'Runtime', 'Genre', 'IMDB_Rating', 'Overview', 'Director', 'Star1', 'Star2', 'Revenue']\n"
     ]
    }
   ],
   "source": [
    "# Write your own code\n",
    "movies_rename = movies.rename(columns={\"Name\": \"Movie_Title\", \"Length\": \"Runtime\", \"Gross\": \"Revenue\"})\n",
    "print(\"Old columns:\", movies.columns.tolist())\n",
    "print(\"New columns:\", movies_rename.columns.tolist())\n"
   ]
  },
  {
   "attachments": {},
   "cell_type": "markdown",
   "metadata": {},
   "source": [
    "### (d) Split Data\n",
    "\n",
    "Use \".query()\" to split the \"movies_rename\" dataset from (c) into different parts:\n",
    "\n",
    "- Those directed by **Steven Spielberg**, saved to a dataset titled **\"movies_spielberg\"**\n",
    "- Those directed by **Christopher Nolan**, saved to a dataset titled **\"movies_nolan\"**\n"
   ]
  },
  {
   "cell_type": "code",
   "execution_count": 12,
   "metadata": {},
   "outputs": [
    {
     "name": "stdout",
     "output_type": "stream",
     "text": [
      "                            Movie_Title Released_Year  Runtime  \\\n",
      "7                      Schindler's List          1993  195 min   \n",
      "24                  Saving Private Ryan          1998  169 min   \n",
      "72              Raiders of the Lost Ark          1981  115 min   \n",
      "168  Indiana Jones and the Last Crusade          1989  127 min   \n",
      "243                 Catch Me If You Can          2002  141 min   \n",
      "262                       Jurassic Park          1993  127 min   \n",
      "415                                Jaws          1975  124 min   \n",
      "682                    The Color Purple          1985  154 min   \n",
      "688          E.T. the Extra-Terrestrial          1982  115 min   \n",
      "832                   Empire of the Sun          1987  153 min   \n",
      "890                     Bridge of Spies          2015  142 min   \n",
      "951                     Minority Report          2002  145 min   \n",
      "988  Close Encounters of the Third Kind          1977  138 min   \n",
      "\n",
      "                         Genre  IMDB_Rating  \\\n",
      "7    Biography, Drama, History          8.9   \n",
      "24                  Drama, War          8.6   \n",
      "72           Action, Adventure          8.4   \n",
      "168          Action, Adventure          8.2   \n",
      "243    Biography, Crime, Drama          8.1   \n",
      "262  Action, Adventure, Sci-Fi          8.1   \n",
      "415        Adventure, Thriller          8.0   \n",
      "682                      Drama          7.8   \n",
      "688             Family, Sci-Fi          7.8   \n",
      "832     Action, Drama, History          7.7   \n",
      "890   Drama, History, Thriller          7.6   \n",
      "951     Action, Crime, Mystery          7.6   \n",
      "988              Drama, Sci-Fi          7.6   \n",
      "\n",
      "                                              Overview          Director  \\\n",
      "7    In German-occupied Poland during World War II,...  Steven Spielberg   \n",
      "24   Following the Normandy Landings, a group of U....  Steven Spielberg   \n",
      "72   In 1936, archaeologist and adventurer Indiana ...  Steven Spielberg   \n",
      "168  In 1938, after his father Professor Henry Jone...  Steven Spielberg   \n",
      "243  Barely 21 yet, Frank is a skilled forger who h...  Steven Spielberg   \n",
      "262  A pragmatic paleontologist visiting an almost ...  Steven Spielberg   \n",
      "415  When a killer shark unleashes chaos on a beach...  Steven Spielberg   \n",
      "682  A black Southern woman struggles to find her i...  Steven Spielberg   \n",
      "688  A troubled child summons the courage to help a...  Steven Spielberg   \n",
      "832  A young English boy struggles to survive under...  Steven Spielberg   \n",
      "890  During the Cold War, an American lawyer is rec...  Steven Spielberg   \n",
      "951  In a future where a special police unit is abl...  Steven Spielberg   \n",
      "988  Roy Neary, an electric lineman, watches how hi...  Steven Spielberg   \n",
      "\n",
      "                 Star1              Star2      Revenue  \n",
      "7          Liam Neeson      Ralph Fiennes   96,898,818  \n",
      "24           Tom Hanks         Matt Damon  216,540,909  \n",
      "72       Harrison Ford        Karen Allen  248,159,971  \n",
      "168      Harrison Ford       Sean Connery  197,171,806  \n",
      "243  Leonardo DiCaprio          Tom Hanks  164,615,351  \n",
      "262          Sam Neill         Laura Dern  402,453,882  \n",
      "415       Roy Scheider        Robert Shaw  260,000,000  \n",
      "682       Danny Glover    Whoopi Goldberg   98,467,863  \n",
      "688       Henry Thomas     Drew Barrymore  435,110,554  \n",
      "832     Christian Bale     John Malkovich   22,238,696  \n",
      "890          Tom Hanks       Mark Rylance   72,313,754  \n",
      "951         Tom Cruise      Colin Farrell  132,072,926  \n",
      "988   Richard Dreyfuss  François Truffaut  132,088,635  \n",
      "               Movie_Title Released_Year  Runtime                      Genre  \\\n",
      "2          The Dark Knight          2008  152 min       Action, Crime, Drama   \n",
      "8                Inception          2010  148 min  Action, Adventure, Sci-Fi   \n",
      "21            Interstellar          2014  169 min   Adventure, Drama, Sci-Fi   \n",
      "36            The Prestige          2006  130 min     Drama, Mystery, Sci-Fi   \n",
      "63   The Dark Knight Rises          2012  164 min          Action, Adventure   \n",
      "69                 Memento          2000  113 min          Mystery, Thriller   \n",
      "155          Batman Begins          2005  140 min          Action, Adventure   \n",
      "573                Dunkirk          2017  106 min     Action, Drama, History   \n",
      "\n",
      "     IMDB_Rating                                           Overview  \\\n",
      "2            9.0  When the menace known as the Joker wreaks havo...   \n",
      "8            8.8  A thief who steals corporate secrets through t...   \n",
      "21           8.6  A team of explorers travel through a wormhole ...   \n",
      "36           8.5  After a tragic accident, two stage magicians e...   \n",
      "63           8.4  Eight years after the Joker's reign of anarchy...   \n",
      "69           8.4  A man with short-term memory loss attempts to ...   \n",
      "155          8.2  After training with his mentor, Batman begins ...   \n",
      "573          7.8  Allied soldiers from Belgium, the British Empi...   \n",
      "\n",
      "              Director                Star1                 Star2      Revenue  \n",
      "2    Christopher Nolan       Christian Bale          Heath Ledger  534,858,444  \n",
      "8    Christopher Nolan    Leonardo DiCaprio  Joseph Gordon-Levitt  292,576,195  \n",
      "21   Christopher Nolan  Matthew McConaughey         Anne Hathaway  188,020,017  \n",
      "36   Christopher Nolan       Christian Bale          Hugh Jackman   53,089,891  \n",
      "63   Christopher Nolan       Christian Bale             Tom Hardy  448,139,099  \n",
      "69   Christopher Nolan           Guy Pearce      Carrie-Anne Moss   25,544,867  \n",
      "155  Christopher Nolan       Christian Bale         Michael Caine  206,852,432  \n",
      "573  Christopher Nolan      Fionn Whitehead         Barry Keoghan  188,373,161  \n"
     ]
    }
   ],
   "source": [
    "# Write your own code\n",
    "\n",
    "movies_spielberg = movies_rename.query('Director == \"Steven Spielberg\"')\n",
    "movies_nolan = movies_rename.query('Director == \"Christopher Nolan\"')\n",
    "print(movies_spielberg)\n",
    "print(movies_nolan)"
   ]
  },
  {
   "attachments": {},
   "cell_type": "markdown",
   "metadata": {},
   "source": [
    "### (e) Concatenate Data\n",
    "\n",
    "Concatenate the datasets you created in (d) to a new dataset titled **\"movies_concat\"**.\n",
    "\n",
    "Display the resulting dataset **\"movies_concat\"**."
   ]
  },
  {
   "cell_type": "code",
   "execution_count": 13,
   "metadata": {},
   "outputs": [
    {
     "name": "stdout",
     "output_type": "stream",
     "text": [
      "                           Movie_Title Released_Year  Runtime  \\\n",
      "0                     Schindler's List          1993  195 min   \n",
      "1                  Saving Private Ryan          1998  169 min   \n",
      "2              Raiders of the Lost Ark          1981  115 min   \n",
      "3   Indiana Jones and the Last Crusade          1989  127 min   \n",
      "4                  Catch Me If You Can          2002  141 min   \n",
      "5                        Jurassic Park          1993  127 min   \n",
      "6                                 Jaws          1975  124 min   \n",
      "7                     The Color Purple          1985  154 min   \n",
      "8           E.T. the Extra-Terrestrial          1982  115 min   \n",
      "9                    Empire of the Sun          1987  153 min   \n",
      "10                     Bridge of Spies          2015  142 min   \n",
      "11                     Minority Report          2002  145 min   \n",
      "12  Close Encounters of the Third Kind          1977  138 min   \n",
      "13                     The Dark Knight          2008  152 min   \n",
      "14                           Inception          2010  148 min   \n",
      "15                        Interstellar          2014  169 min   \n",
      "16                        The Prestige          2006  130 min   \n",
      "17               The Dark Knight Rises          2012  164 min   \n",
      "18                             Memento          2000  113 min   \n",
      "19                       Batman Begins          2005  140 min   \n",
      "20                             Dunkirk          2017  106 min   \n",
      "\n",
      "                        Genre  IMDB_Rating  \\\n",
      "0   Biography, Drama, History          8.9   \n",
      "1                  Drama, War          8.6   \n",
      "2           Action, Adventure          8.4   \n",
      "3           Action, Adventure          8.2   \n",
      "4     Biography, Crime, Drama          8.1   \n",
      "5   Action, Adventure, Sci-Fi          8.1   \n",
      "6         Adventure, Thriller          8.0   \n",
      "7                       Drama          7.8   \n",
      "8              Family, Sci-Fi          7.8   \n",
      "9      Action, Drama, History          7.7   \n",
      "10   Drama, History, Thriller          7.6   \n",
      "11     Action, Crime, Mystery          7.6   \n",
      "12              Drama, Sci-Fi          7.6   \n",
      "13       Action, Crime, Drama          9.0   \n",
      "14  Action, Adventure, Sci-Fi          8.8   \n",
      "15   Adventure, Drama, Sci-Fi          8.6   \n",
      "16     Drama, Mystery, Sci-Fi          8.5   \n",
      "17          Action, Adventure          8.4   \n",
      "18          Mystery, Thriller          8.4   \n",
      "19          Action, Adventure          8.2   \n",
      "20     Action, Drama, History          7.8   \n",
      "\n",
      "                                             Overview           Director  \\\n",
      "0   In German-occupied Poland during World War II,...   Steven Spielberg   \n",
      "1   Following the Normandy Landings, a group of U....   Steven Spielberg   \n",
      "2   In 1936, archaeologist and adventurer Indiana ...   Steven Spielberg   \n",
      "3   In 1938, after his father Professor Henry Jone...   Steven Spielberg   \n",
      "4   Barely 21 yet, Frank is a skilled forger who h...   Steven Spielberg   \n",
      "5   A pragmatic paleontologist visiting an almost ...   Steven Spielberg   \n",
      "6   When a killer shark unleashes chaos on a beach...   Steven Spielberg   \n",
      "7   A black Southern woman struggles to find her i...   Steven Spielberg   \n",
      "8   A troubled child summons the courage to help a...   Steven Spielberg   \n",
      "9   A young English boy struggles to survive under...   Steven Spielberg   \n",
      "10  During the Cold War, an American lawyer is rec...   Steven Spielberg   \n",
      "11  In a future where a special police unit is abl...   Steven Spielberg   \n",
      "12  Roy Neary, an electric lineman, watches how hi...   Steven Spielberg   \n",
      "13  When the menace known as the Joker wreaks havo...  Christopher Nolan   \n",
      "14  A thief who steals corporate secrets through t...  Christopher Nolan   \n",
      "15  A team of explorers travel through a wormhole ...  Christopher Nolan   \n",
      "16  After a tragic accident, two stage magicians e...  Christopher Nolan   \n",
      "17  Eight years after the Joker's reign of anarchy...  Christopher Nolan   \n",
      "18  A man with short-term memory loss attempts to ...  Christopher Nolan   \n",
      "19  After training with his mentor, Batman begins ...  Christopher Nolan   \n",
      "20  Allied soldiers from Belgium, the British Empi...  Christopher Nolan   \n",
      "\n",
      "                  Star1                 Star2      Revenue  \n",
      "0           Liam Neeson         Ralph Fiennes   96,898,818  \n",
      "1             Tom Hanks            Matt Damon  216,540,909  \n",
      "2         Harrison Ford           Karen Allen  248,159,971  \n",
      "3         Harrison Ford          Sean Connery  197,171,806  \n",
      "4     Leonardo DiCaprio             Tom Hanks  164,615,351  \n",
      "5             Sam Neill            Laura Dern  402,453,882  \n",
      "6          Roy Scheider           Robert Shaw  260,000,000  \n",
      "7          Danny Glover       Whoopi Goldberg   98,467,863  \n",
      "8          Henry Thomas        Drew Barrymore  435,110,554  \n",
      "9        Christian Bale        John Malkovich   22,238,696  \n",
      "10            Tom Hanks          Mark Rylance   72,313,754  \n",
      "11           Tom Cruise         Colin Farrell  132,072,926  \n",
      "12     Richard Dreyfuss     François Truffaut  132,088,635  \n",
      "13       Christian Bale          Heath Ledger  534,858,444  \n",
      "14    Leonardo DiCaprio  Joseph Gordon-Levitt  292,576,195  \n",
      "15  Matthew McConaughey         Anne Hathaway  188,020,017  \n",
      "16       Christian Bale          Hugh Jackman   53,089,891  \n",
      "17       Christian Bale             Tom Hardy  448,139,099  \n",
      "18           Guy Pearce      Carrie-Anne Moss   25,544,867  \n",
      "19       Christian Bale         Michael Caine  206,852,432  \n",
      "20      Fionn Whitehead         Barry Keoghan  188,373,161  \n"
     ]
    }
   ],
   "source": [
    "movies_concat = pd.concat([movies_spielberg, movies_nolan], ignore_index=True)\n",
    "print(movies_concat)\n",
    "\n"
   ]
  }
 ],
 "metadata": {
  "kernelspec": {
   "display_name": "base",
   "language": "python",
   "name": "python3"
  },
  "language_info": {
   "codemirror_mode": {
    "name": "ipython",
    "version": 3
   },
   "file_extension": ".py",
   "mimetype": "text/x-python",
   "name": "python",
   "nbconvert_exporter": "python",
   "pygments_lexer": "ipython3",
   "version": "3.12.7"
  },
  "orig_nbformat": 4
 },
 "nbformat": 4,
 "nbformat_minor": 2
}
