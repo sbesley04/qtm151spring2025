{
 "cells": [
  {
   "cell_type": "markdown",
   "metadata": {},
   "source": [
    "# Linear Algebra Coding"
   ]
  },
  {
   "cell_type": "markdown",
   "metadata": {},
   "source": [
    "## Matrix Multiplication"
   ]
  },
  {
   "cell_type": "code",
   "execution_count": null,
   "metadata": {},
   "outputs": [],
   "source": [
    "def multiplyMatrix(A, B):\n",
    "    C = [[]]\n",
    "    for i in range(len(A)):\n",
    "        for j in range(len(B[0])):\n",
    "            C[i][j] = 0\n",
    "            for k in range(len(B)):\n",
    "                C[i][j] += A[i][k] * B[k][j] \n",
    "    return C\n",
    "\n",
    "def main():\n",
    "    A = [[1, 2], [3, 4]]\n",
    "    B = [[5, 6], [7, 8]]\n",
    "    print(multiplyMatrix(A, B))"
   ]
  },
  {
   "cell_type": "code",
   "execution_count": 5,
   "metadata": {},
   "outputs": [
    {
     "name": "stdout",
     "output_type": "stream",
     "text": [
      "9l2FGxLJ66962NcTNNNN519RNNRNNRmB339bmGmBbmGm35269dv6J7FGdv479ltFN761kK9U1kKU1k1k\n"
     ]
    }
   ],
   "source": [
    "def lz_compress(input_string):\n",
    "    i = 0\n",
    "    output = []\n",
    "    while i < len(input_string):\n",
    "        # Find the longest match of the current substring in the previous part of the string\n",
    "        max_len = 0\n",
    "        max_pos = 0\n",
    "        for j in range(1, 10):\n",
    "            if i - j >= 0:\n",
    "                k = 0\n",
    "                while i + k < len(input_string) and input_string[i + k] == input_string[i + k - j]:\n",
    "                    k += 1\n",
    "                if k > max_len:\n",
    "                    max_len = k\n",
    "                    max_pos = j\n",
    "\n",
    "        # If a match is found, use the reference chunk\n",
    "        if max_len > 1:\n",
    "            output.append(f\"{max_len}{max_pos}\")\n",
    "            i += max_len\n",
    "        else:\n",
    "            # Otherwise, use the literal chunk\n",
    "            literal_len = min(9, len(input_string) - i)\n",
    "            output.append(f\"{literal_len}{input_string[i:i + literal_len]}\")\n",
    "            i += literal_len\n",
    "\n",
    "    return ''.join(output)\n",
    "\n",
    "input_string = \"l2FGxLJ6662NcTNNNNNNNNNRNNRNNRmBRmBbmGmBbmGmBbmmGdv6J7FGdv6J7FltFN761kKU1kKU1k1k\"\n",
    "compressed_string = lz_compress(input_string)\n",
    "print(compressed_string)"
   ]
  },
  {
   "cell_type": "code",
   "execution_count": null,
   "metadata": {},
   "outputs": [
    {
     "data": {
      "text/plain": [
       "22"
      ]
     },
     "execution_count": 4,
     "metadata": {},
     "output_type": "execute_result"
    }
   ],
   "source": [
    "\n"
   ]
  }
 ],
 "metadata": {
  "kernelspec": {
   "display_name": "base",
   "language": "python",
   "name": "python3"
  },
  "language_info": {
   "codemirror_mode": {
    "name": "ipython",
    "version": 3
   },
   "file_extension": ".py",
   "mimetype": "text/x-python",
   "name": "python",
   "nbconvert_exporter": "python",
   "pygments_lexer": "ipython3",
   "version": "3.12.7"
  }
 },
 "nbformat": 4,
 "nbformat_minor": 2
}
